{
 "cells": [
  {
   "cell_type": "markdown",
   "id": "0b0ec113",
   "metadata": {},
   "source": [
    "## **` Internship Project `** "
   ]
  },
  {
   "cell_type": "code",
   "execution_count": 11,
   "id": "96f5d61f",
   "metadata": {},
   "outputs": [],
   "source": [
    "# Importing Necessary Libraries\n",
    "from bs4 import BeautifulSoup as bs\n",
    "import requests\n",
    "import numpy as np\n",
    "import pandas as pd\n",
    "import re\n",
    "from selenium import webdriver\n",
    "from selenium.webdriver.chrome.service import Service"
   ]
  },
  {
   "cell_type": "markdown",
   "id": "2052d041",
   "metadata": {},
   "source": [
    "### **` Project `** "
   ]
  },
  {
   "cell_type": "markdown",
   "id": "1b66bd57",
   "metadata": {},
   "source": [
    "#### Please Enter Linkdein ID & Password"
   ]
  },
  {
   "cell_type": "code",
   "execution_count": null,
   "id": "5b856413",
   "metadata": {},
   "outputs": [],
   "source": [
    "# Importing Necessary Libraries\n",
    "from bs4 import BeautifulSoup\n",
    "import requests\n",
    "import numpy as np\n",
    "import pandas as pd\n",
    "import re\n",
    "import time\n",
    "from selenium.webdriver.common.keys import Keys\n",
    "from selenium import webdriver\n",
    "from selenium.webdriver.chrome.service import Service\n",
    "from selenium.webdriver.common.by import By\n",
    "\n",
    "firstname = input()\n",
    "lastname = input()\n",
    "s=Service(\"C:/Users/DELL/Downloads/Dataset/chromedriver-win64/chromedriver.exe\")\n",
    "driver = webdriver.Chrome(service = s)\n",
    "link = f\"https://www.linkedin.com/search/results/people/?heroEntityKey=urn%3Ali%3Afsd_profile%3AACoAACtRLZMB7ymcym6TQImChrlOhl4BfCxYffw&keywords={firstname}%20{lastname}&origin=SWITCH_SEARCH_VERTICAL&sid=L9b\"\n",
    "driver.get(link)\n",
    "time.sleep(2)\n",
    "driver.find_element_by_xpath(\"\"\"/html/body/div[1]/main/div/p/a\"\"\").click()\n",
    "time.sleep(2)\n",
    "\n",
    "user_name = driver.find_element_by_xpath(\"\"\"/html/body/div/main/div[2]/div[1]/form/div[1]/input\"\"\")\n",
    "user_name.send_keys(\"vishnumurali880@gmail.com\")\n",
    "user_name.send_keys(Keys.ENTER)\n",
    "\n",
    "password = driver.find_element_by_xpath(\"\"\"/html/body/div/main/div[2]/div[1]/form/div[2]/input\"\"\")\n",
    "password.send_keys(\"#######\")\n",
    "password.send_keys(Keys.ENTER)\n",
    "\n",
    "\n",
    "source = BeautifulSoup(driver.page_source,\"html.parser\")\n",
    "info = source.find(\"ul\",{'class':'reusable-search__entity-result-list list-style-none'})\n",
    "profiles = source.find_all(\"li\", {\"class\": \"reusable-search__result-container\"})\n",
    "\n",
    "\n",
    "Name=[]\n",
    "Location=[]\n",
    "Followers =[]\n",
    "About = []\n",
    "for profile in profiles:\n",
    "    try:\n",
    "        name = profile.find(\"span\", {\"aria-hidden\": \"true\"}).get_text().strip()\n",
    "        Name.append(name)\n",
    "        print(\"Name :\", name)\n",
    "    except AttributeError:\n",
    "        Name.append(\"Not Found\")\n",
    "        \n",
    "    try:\n",
    "        location = profile.find('div', {'class': 'entity-result__secondary-subtitle t-14 t-normal'}).get_text().strip()\n",
    "        Location.append(location)\n",
    "        print(\"Location:\", location)\n",
    "    except AttributeError:\n",
    "        Location.append(\"not found\")\n",
    "\n",
    "    try:\n",
    "        followers = profile.find('div', {'class': 'reusable-search-simple-insight__text-container'}).get_text().strip()\n",
    "        Followers.append(followers)\n",
    "        print('Followers:', followers)\n",
    "    except AttributeError:\n",
    "        Followers.append(\"Not Found\")\n",
    "        \n",
    "    try:\n",
    "        profile_name_span = profile.find('div', {'class': 'entity-result__primary-subtitle t-14 t-black t-normal'})\n",
    "        if profile_name_span:\n",
    "            about = profile_name_span.get_text().strip() if profile_name_span else \"N/A\"\n",
    "            About.append(about)\n",
    "            print(\"About:\", about)\n",
    "        else:\n",
    "            print(\"Profile Name not found.\")\n",
    "    except AttributeError:\n",
    "        About.append(\"Not found\")\n",
    "\n",
    "    print(\"\\n\")\n",
    "    \n",
    "d={'Name':Name,'Location':Location,'Followers':Followers,\"About\":About}\n",
    "data = pd.DataFrame(d)\n",
    "data"
   ]
  },
  {
   "cell_type": "code",
   "execution_count": null,
   "id": "9b9d0ae2",
   "metadata": {},
   "outputs": [],
   "source": []
  },
  {
   "cell_type": "code",
   "execution_count": null,
   "id": "8547bc61",
   "metadata": {},
   "outputs": [],
   "source": []
  },
  {
   "cell_type": "code",
   "execution_count": null,
   "id": "3dd63e3f",
   "metadata": {},
   "outputs": [],
   "source": []
  },
  {
   "cell_type": "markdown",
   "id": "5e757594",
   "metadata": {},
   "source": [
    "### **` Trail and Error  `** "
   ]
  },
  {
   "cell_type": "code",
   "execution_count": 27,
   "id": "89e634c1",
   "metadata": {},
   "outputs": [],
   "source": [
    "## Trail1"
   ]
  },
  {
   "cell_type": "markdown",
   "id": "74752050",
   "metadata": {},
   "source": [
    "#### **` Web Page Link `** "
   ]
  },
  {
   "cell_type": "code",
   "execution_count": 7,
   "id": "e4f68a16",
   "metadata": {},
   "outputs": [
    {
     "data": {
      "text/plain": [
       "'https://www.linkedin.com/search/results/people/?heroEntityKey=urn%3Ali%3Afsd_profile%3AACoAACtRLZMB7ymcym6TQImChrlOhl4BfCxYffw&keywords=Durga%20Prasad&origin=SWITCH_SEARCH_VERTICAL&sid=L9b'"
      ]
     },
     "execution_count": 7,
     "metadata": {},
     "output_type": "execute_result"
    }
   ],
   "source": [
    "link = \"https://www.linkedin.com/search/results/people/?heroEntityKey=urn%3Ali%3Afsd_profile%3AACoAACtRLZMB7ymcym6TQImChrlOhl4BfCxYffw&keywords=Durga%20Prasad&origin=SWITCH_SEARCH_VERTICAL&sid=L9b\"\n",
    "link"
   ]
  },
  {
   "cell_type": "code",
   "execution_count": 55,
   "id": "e80e5e9c",
   "metadata": {},
   "outputs": [],
   "source": [
    "s=Service(\"C:/Users/DELL/Downloads/Dataset/chromedriver-win64/chromedriver.exe\")"
   ]
  },
  {
   "cell_type": "code",
   "execution_count": 56,
   "id": "39213c1d",
   "metadata": {},
   "outputs": [
    {
     "data": {
      "text/plain": [
       "<selenium.webdriver.chrome.service.Service at 0x23ab0d450c0>"
      ]
     },
     "execution_count": 56,
     "metadata": {},
     "output_type": "execute_result"
    }
   ],
   "source": [
    "s"
   ]
  },
  {
   "cell_type": "code",
   "execution_count": 59,
   "id": "111689dd",
   "metadata": {},
   "outputs": [],
   "source": [
    "driver = webdriver.Chrome(service = s)"
   ]
  },
  {
   "cell_type": "code",
   "execution_count": 60,
   "id": "37181c23",
   "metadata": {},
   "outputs": [],
   "source": [
    "driver.get(link)"
   ]
  },
  {
   "cell_type": "code",
   "execution_count": null,
   "id": "1fc77c83",
   "metadata": {},
   "outputs": [],
   "source": []
  },
  {
   "cell_type": "code",
   "execution_count": null,
   "id": "d71ddb25",
   "metadata": {},
   "outputs": [],
   "source": [
    "driver.find_element_by_xpath(\"\"\"/html/body/div[5]/div[3]/div[2]\"\"\")"
   ]
  },
  {
   "cell_type": "code",
   "execution_count": null,
   "id": "22729cc8",
   "metadata": {},
   "outputs": [],
   "source": []
  },
  {
   "cell_type": "code",
   "execution_count": 2,
   "id": "da38093c",
   "metadata": {},
   "outputs": [
    {
     "name": "stdout",
     "output_type": "stream",
     "text": [
      "vishnu\n",
      "murali\n"
     ]
    },
    {
     "name": "stderr",
     "output_type": "stream",
     "text": [
      "C:\\Users\\DELL\\anaconda3\\lib\\site-packages\\selenium\\webdriver\\remote\\webdriver.py:483: UserWarning: find_element_by_* commands are deprecated. Please use find_element() instead\n",
      "  warnings.warn(\"find_element_by_* commands are deprecated. Please use find_element() instead\")\n"
     ]
    }
   ],
   "source": [
    "# Importing Necessary Libraries\n",
    "from bs4 import BeautifulSoup as bs\n",
    "import requests\n",
    "import numpy as np\n",
    "import pandas as pd\n",
    "import re\n",
    "import time\n",
    "from selenium.webdriver.common.keys import Keys\n",
    "from selenium import webdriver\n",
    "from selenium.webdriver.chrome.service import Service\n",
    "from selenium.webdriver.common.by import By\n",
    "\n",
    "firstname = input()\n",
    "lastname = input()\n",
    "s=Service(\"C:/Users/DELL/Downloads/Dataset/chromedriver-win64/chromedriver.exe\")\n",
    "driver = webdriver.Chrome(service = s)\n",
    "link = f\"https://www.linkedin.com/search/results/people/?heroEntityKey=urn%3Ali%3Afsd_profile%3AACoAACtRLZMB7ymcym6TQImChrlOhl4BfCxYffw&keywords={firstname}%20{lastname}&origin=SWITCH_SEARCH_VERTICAL&sid=L9b\"\n",
    "driver.get(link)\n",
    "time.sleep(2)\n",
    "driver.find_element_by_xpath(\"\"\"/html/body/div[1]/main/div/p/a\"\"\").click()\n",
    "time.sleep(2)\n",
    "\n",
    "user_name = driver.find_element_by_xpath(\"\"\"/html/body/div/main/div[2]/div[1]/form/div[1]/input\"\"\")\n",
    "user_name.send_keys(\"vishnumurali880@gmail.com\")\n",
    "user_name.send_keys(Keys.ENTER)\n",
    "\n",
    "password = driver.find_element_by_xpath(\"\"\"/html/body/div/main/div[2]/div[1]/form/div[2]/input\"\"\")\n",
    "password.send_keys(\"Vishnu@123\")\n",
    "password.send_keys(Keys.ENTER)\n"
   ]
  },
  {
   "cell_type": "code",
   "execution_count": 5,
   "id": "e4f33820",
   "metadata": {},
   "outputs": [
    {
     "name": "stdout",
     "output_type": "stream",
     "text": [
      "C:\\Users\\DELL\n"
     ]
    }
   ],
   "source": [
    "cd"
   ]
  },
  {
   "cell_type": "code",
   "execution_count": 9,
   "id": "efcf57d4",
   "metadata": {},
   "outputs": [
    {
     "data": {
      "text/plain": [
       "'https://www.linkedin.com/search/results/people/?heroEntityKey=urn%3Ali%3Afsd_profile%3AACoAACtRLZMB7ymcym6TQImChrlOhl4BfCxYffw&keywords=Durga%20Prasad&origin=SWITCH_SEARCH_VERTICAL&sid=L9b'"
      ]
     },
     "execution_count": 9,
     "metadata": {},
     "output_type": "execute_result"
    }
   ],
   "source": [
    "link"
   ]
  },
  {
   "cell_type": "code",
   "execution_count": null,
   "id": "626f351a",
   "metadata": {},
   "outputs": [],
   "source": []
  },
  {
   "cell_type": "code",
   "execution_count": null,
   "id": "1c61e77b",
   "metadata": {},
   "outputs": [],
   "source": [
    "source = BeautifulSoup(driver.page_source,\"html.parser\")\n",
    "info = source.find(\"ul\",{'class':'reusable-search__entity-result-list list-style-none'})\n",
    "profile_name = info.find('span','dir'='itr')"
   ]
  },
  {
   "cell_type": "code",
   "execution_count": null,
   "id": "40c3c8ef",
   "metadata": {},
   "outputs": [],
   "source": [
    "print(profile_name)"
   ]
  },
  {
   "cell_type": "code",
   "execution_count": null,
   "id": "deb0a1c3",
   "metadata": {},
   "outputs": [],
   "source": []
  },
  {
   "cell_type": "code",
   "execution_count": 28,
   "id": "c55dfad0",
   "metadata": {},
   "outputs": [],
   "source": [
    "## Trail 2"
   ]
  },
  {
   "cell_type": "code",
   "execution_count": 23,
   "id": "bc79c23a",
   "metadata": {},
   "outputs": [
    {
     "name": "stdout",
     "output_type": "stream",
     "text": [
      "vishnu\n",
      "murali\n",
      "Profile Name: \n",
      "Profile Name: \n",
      "Profile Name: Sr. Data Scientist at Deloitte USI | NIT Trichy\n",
      "Profile Name: \n",
      "Profile Name: \n",
      "Profile Name not found.\n"
     ]
    }
   ],
   "source": [
    "# Importing Necessary Libraries\n",
    "from bs4 import BeautifulSoup as bs\n",
    "import requests\n",
    "import numpy as np\n",
    "import pandas as pd\n",
    "import re\n",
    "import time\n",
    "from selenium.webdriver.common.keys import Keys\n",
    "from selenium import webdriver\n",
    "from selenium.webdriver.chrome.service import Service\n",
    "from selenium.webdriver.common.by import By\n",
    "\n",
    "firstname = input()\n",
    "lastname = input()\n",
    "s=Service(\"C:/Users/DELL/Downloads/Dataset/chromedriver-win64/chromedriver.exe\")\n",
    "driver = webdriver.Chrome(service = s)\n",
    "link = f\"https://www.linkedin.com/search/results/people/?heroEntityKey=urn%3Ali%3Afsd_profile%3AACoAACtRLZMB7ymcym6TQImChrlOhl4BfCxYffw&keywords={firstname}%20{lastname}&origin=SWITCH_SEARCH_VERTICAL&sid=L9b\"\n",
    "driver.get(link)\n",
    "time.sleep(2)\n",
    "driver.find_element_by_xpath(\"\"\"/html/body/div[1]/main/div/p/a\"\"\").click()\n",
    "time.sleep(2)\n",
    "\n",
    "user_name = driver.find_element_by_xpath(\"\"\"/html/body/div/main/div[2]/div[1]/form/div[1]/input\"\"\")\n",
    "user_name.send_keys(\"vishnumurali880@gmail.com\")\n",
    "user_name.send_keys(Keys.ENTER)\n",
    "\n",
    "password = driver.find_element_by_xpath(\"\"\"/html/body/div/main/div[2]/div[1]/form/div[2]/input\"\"\")\n",
    "password.send_keys(\"Vishnu@123\")\n",
    "password.send_keys(Keys.ENTER)\n",
    "\n",
    "\n",
    "source = BeautifulSoup(driver.page_source,\"html.parser\")\n",
    "info = source.find(\"ul\",{'class':'reusable-search__entity-result-list list-style-none'})\n",
    "profile_name_span = info.find('div',{'class':'entity-result__primary-subtitle t-14 t-black t-normal'})\n",
    "\n",
    "for i in profile_name_span:\n",
    "    profile_name = i.get_text().strip()\n",
    "    print(\"Profile Name:\", profile_name)\n",
    "else:\n",
    "    print(\"Profile Name not found.\")"
   ]
  },
  {
   "cell_type": "code",
   "execution_count": null,
   "id": "0dad7579",
   "metadata": {},
   "outputs": [],
   "source": []
  },
  {
   "cell_type": "code",
   "execution_count": 30,
   "id": "64dee566",
   "metadata": {},
   "outputs": [],
   "source": [
    "## Trail 3"
   ]
  },
  {
   "cell_type": "code",
   "execution_count": 29,
   "id": "a9ecdde0",
   "metadata": {},
   "outputs": [
    {
     "name": "stdout",
     "output_type": "stream",
     "text": [
      "vishnu\n",
      "murali\n",
      "Person Name vishnu   murali\n",
      "About : Sr. Data Scientist at Deloitte USI | NIT Trichy\n",
      "Location : Bengaluru\n",
      "Talks_About : Vishnu Murali\n"
     ]
    }
   ],
   "source": [
    "# Importing Necessary Libraries\n",
    "from bs4 import BeautifulSoup as bs\n",
    "import requests\n",
    "import numpy as np\n",
    "import pandas as pd\n",
    "import re\n",
    "import time\n",
    "from selenium.webdriver.common.keys import Keys\n",
    "from selenium import webdriver\n",
    "from selenium.webdriver.chrome.service import Service\n",
    "from selenium.webdriver.common.by import By\n",
    "\n",
    "firstname = input()\n",
    "lastname = input()\n",
    "s=Service(\"C:/Users/DELL/Downloads/Dataset/chromedriver-win64/chromedriver.exe\")\n",
    "driver = webdriver.Chrome(service = s)\n",
    "link = f\"https://www.linkedin.com/search/results/people/?heroEntityKey=urn%3Ali%3Afsd_profile%3AACoAACtRLZMB7ymcym6TQImChrlOhl4BfCxYffw&keywords={firstname}%20{lastname}&origin=SWITCH_SEARCH_VERTICAL&sid=L9b\"\n",
    "driver.get(link)\n",
    "time.sleep(2)\n",
    "driver.find_element_by_xpath(\"\"\"/html/body/div[1]/main/div/p/a\"\"\").click()\n",
    "time.sleep(2)\n",
    "\n",
    "user_name = driver.find_element_by_xpath(\"\"\"/html/body/div/main/div[2]/div[1]/form/div[1]/input\"\"\")\n",
    "user_name.send_keys(\"vishnumurali880@gmail.com\")\n",
    "user_name.send_keys(Keys.ENTER)\n",
    "\n",
    "password = driver.find_element_by_xpath(\"\"\"/html/body/div/main/div[2]/div[1]/form/div[2]/input\"\"\")\n",
    "password.send_keys(\"Vishnu@123\")\n",
    "password.send_keys(Keys.ENTER)\n",
    "\n",
    "\n",
    "source = BeautifulSoup(driver.page_source,\"html.parser\")\n",
    "info = source.find(\"ul\",{'class':'reusable-search__entity-result-list list-style-none'})\n",
    "profile_name_span = info.find('div',{'class':'entity-result__primary-subtitle t-14 t-black t-normal'})\n",
    "\n",
    "if profile_name_span:\n",
    "    Name = info.find(\"span\",{\"aria-hidden\":\"true\"}).get_text().strip()\n",
    "    print(\"Talks_About :\", Name)\n",
    "    About = profile_name_span.get_text().strip()\n",
    "    print(\"About :\", About)\n",
    "    location = info.find('div',{'class':'entity-result__secondary-subtitle t-14 t-normal'}).get_text().strip()\n",
    "    print(\"Location :\", location)\n",
    "    Talks_About = info.find(\"span\",{\"aria-hidden\":\"true\"}).get_text().strip()\n",
    "    print(\"Talks_About :\", Talks_About)\n",
    "else:\n",
    "    print(\"Profile Name not found.\")"
   ]
  },
  {
   "cell_type": "code",
   "execution_count": null,
   "id": "3b3ca0e9",
   "metadata": {},
   "outputs": [],
   "source": []
  },
  {
   "cell_type": "code",
   "execution_count": 31,
   "id": "ff5214a9",
   "metadata": {},
   "outputs": [],
   "source": [
    "## Trail 4"
   ]
  },
  {
   "cell_type": "code",
   "execution_count": 3,
   "id": "83e8c28e",
   "metadata": {},
   "outputs": [
    {
     "name": "stdout",
     "output_type": "stream",
     "text": [
      "priya\n",
      "mohan\n"
     ]
    },
    {
     "name": "stderr",
     "output_type": "stream",
     "text": [
      "C:\\Users\\DELL\\anaconda3\\lib\\site-packages\\selenium\\webdriver\\remote\\webdriver.py:483: UserWarning: find_element_by_* commands are deprecated. Please use find_element() instead\n",
      "  warnings.warn(\"find_element_by_* commands are deprecated. Please use find_element() instead\")\n"
     ]
    },
    {
     "name": "stdout",
     "output_type": "stream",
     "text": [
      "Name : Priya Mohan\n",
      "Location: Bengaluru\n",
      "Followers: 5K followers\n",
      "About: Investor at Venture Highway\n",
      "\n",
      "\n",
      "Name : Priya Mohan\n",
      "Location: Bengaluru\n",
      "About: Catalyzing growth and innovation, leading with empathy and resilience\n",
      "\n",
      "\n",
      "Name : Priya Mohan\n",
      "Location: Bengaluru\n",
      "About: Application Development Sr Analyst at Accenture\n",
      "\n",
      "\n",
      "Name : Priya Mohan\n",
      "Location: Bengaluru\n",
      "About: Project Manager at GalaxE.Solutions\n",
      "\n",
      "\n",
      "Name : Priya Mohan\n",
      "Location: Bengaluru\n",
      "About: Head Strategic Sales APAC\n",
      "\n",
      "\n",
      "Name : Priya Mohan\n",
      "Location: Bengaluru\n",
      "About: Sr IT Project Management Specialist at Honeywell Technological Solutions Lab\n",
      "\n",
      "\n",
      "Name : Priya Mohan\n",
      "Location: Bengaluru\n",
      "About: Technical Writer by Choice\n",
      "\n",
      "\n",
      "Name : Priya Mohan\n",
      "Location: Bengaluru\n",
      "About: --\n",
      "\n",
      "\n",
      "Name : Priya Mohan\n",
      "Location: Bengaluru\n",
      "About: Sabbatical, Ex Co-Founder & COO at AhaRent\n",
      "\n",
      "\n",
      "Name : Priya Mohan\n",
      "Location: Bengaluru\n",
      "About: Project controller at Arcadis, Ex-Deloitte, Ex-JLL, PMO, Vendor Management, Accounts Payable Specialist/MRI/SAP/Yardi Voyager/Tableau/Excel\n",
      "\n",
      "\n"
     ]
    }
   ],
   "source": [
    "# Importing Necessary Libraries\n",
    "from bs4 import BeautifulSoup\n",
    "import requests\n",
    "import numpy as np\n",
    "import pandas as pd\n",
    "import re\n",
    "import time\n",
    "from selenium.webdriver.common.keys import Keys\n",
    "from selenium import webdriver\n",
    "from selenium.webdriver.chrome.service import Service\n",
    "from selenium.webdriver.common.by import By\n",
    "\n",
    "firstname = input()\n",
    "lastname = input()\n",
    "s=Service(\"C:/Users/DELL/Downloads/Dataset/chromedriver-win64/chromedriver.exe\")\n",
    "driver = webdriver.Chrome(service = s)\n",
    "link = f\"https://www.linkedin.com/search/results/people/?heroEntityKey=urn%3Ali%3Afsd_profile%3AACoAACtRLZMB7ymcym6TQImChrlOhl4BfCxYffw&keywords={firstname}%20{lastname}&origin=SWITCH_SEARCH_VERTICAL&sid=L9b\"\n",
    "driver.get(link)\n",
    "time.sleep(2)\n",
    "driver.find_element_by_xpath(\"\"\"/html/body/div[1]/main/div/p/a\"\"\").click()\n",
    "time.sleep(2)\n",
    "\n",
    "user_name = driver.find_element_by_xpath(\"\"\"/html/body/div/main/div[2]/div[1]/form/div[1]/input\"\"\")\n",
    "user_name.send_keys(\"vishnumurali880@gmail.com\")\n",
    "user_name.send_keys(Keys.ENTER)\n",
    "\n",
    "password = driver.find_element_by_xpath(\"\"\"/html/body/div/main/div[2]/div[1]/form/div[2]/input\"\"\")\n",
    "password.send_keys(\"Vishnu@123\")\n",
    "password.send_keys(Keys.ENTER)\n",
    "\n",
    "\n",
    "source = BeautifulSoup(driver.page_source,\"html.parser\")\n",
    "info = source.find(\"ul\",{'class':'reusable-search__entity-result-list list-style-none'})\n",
    "profiles = source.find_all(\"li\", {\"class\": \"reusable-search__result-container\"})\n",
    "\n",
    "for profile in profiles:\n",
    "    try:\n",
    "        name = profile.find(\"span\", {\"aria-hidden\": \"true\"}).get_text().strip()\n",
    "        print(\"Name :\", name)\n",
    "    except AttributeError:\n",
    "        name = None\n",
    "        \n",
    "    try:\n",
    "        location = profile.find('div', {'class': 'entity-result__secondary-subtitle t-14 t-normal'}).get_text().strip()\n",
    "        print(\"Location:\", location)\n",
    "    except AttributeError:\n",
    "        name = None\n",
    "\n",
    "    try:\n",
    "        followers = profile.find('div', {'class': 'reusable-search-simple-insight__text-container'}).get_text().strip()\n",
    "        print('Followers:', followers)\n",
    "    except AttributeError:\n",
    "        followers = None\n",
    "        \n",
    "    try:\n",
    "        profile_name_span = profile.find('div', {'class': 'entity-result__primary-subtitle t-14 t-black t-normal'})\n",
    "        if profile_name_span:\n",
    "            about = profile_name_span.get_text().strip() if profile_name_span else \"N/A\"\n",
    "            print(\"About:\", about)\n",
    "        else:\n",
    "            print(\"Profile Name not found.\")\n",
    "    except AttributeError:\n",
    "        profile_name_span = None\n",
    "\n",
    "    print(\"\\n\")"
   ]
  }
 ],
 "metadata": {
  "kernelspec": {
   "display_name": "Python 3 (ipykernel)",
   "language": "python",
   "name": "python3"
  },
  "language_info": {
   "codemirror_mode": {
    "name": "ipython",
    "version": 3
   },
   "file_extension": ".py",
   "mimetype": "text/x-python",
   "name": "python",
   "nbconvert_exporter": "python",
   "pygments_lexer": "ipython3",
   "version": "3.10.13"
  }
 },
 "nbformat": 4,
 "nbformat_minor": 5
}
